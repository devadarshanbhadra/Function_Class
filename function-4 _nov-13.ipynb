{
 "cells": [
  {
   "cell_type": "code",
   "execution_count": 34,
   "id": "73a4c707-f6df-4840-b6a1-28b02d3efb06",
   "metadata": {},
   "outputs": [],
   "source": [
    "def test1(func):          # when print(func()) is given then only other function  like any operators is printing. if print is not given operators will not print\n",
    "    def test2():\n",
    "        print(\"im inside test2\")\n",
    "        func()\n",
    "        print(func())\n",
    "        print(\"function executed\")\n",
    "    return test2"
   ]
  },
  {
   "cell_type": "code",
   "execution_count": 22,
   "id": "99654eb9-6f32-42f7-bb53-2447cf5937aa",
   "metadata": {},
   "outputs": [],
   "source": [
    "@test1\n",
    "def test3():\n",
    "    print(\"this is my test3\")\n",
    "    "
   ]
  },
  {
   "cell_type": "code",
   "execution_count": 25,
   "id": "ca1fd8fa-1576-4328-9efe-47e4ae9da3c6",
   "metadata": {},
   "outputs": [
    {
     "name": "stdout",
     "output_type": "stream",
     "text": [
      "im inside test2\n",
      "this is my test3\n",
      "function executed\n"
     ]
    }
   ],
   "source": [
    "test3()"
   ]
  },
  {
   "cell_type": "code",
   "execution_count": 36,
   "id": "1c0774ca-3c3e-4677-a61d-7cc2b591d016",
   "metadata": {},
   "outputs": [],
   "source": [
    "@test1\n",
    "def test4():\n",
    "    return 5+6"
   ]
  },
  {
   "cell_type": "code",
   "execution_count": 37,
   "id": "366736ad-3e1b-4b11-a2f9-9092119895bb",
   "metadata": {},
   "outputs": [
    {
     "name": "stdout",
     "output_type": "stream",
     "text": [
      "im inside test2\n",
      "11\n",
      "function executed\n"
     ]
    }
   ],
   "source": [
    "test4()"
   ]
  },
  {
   "cell_type": "code",
   "execution_count": 38,
   "id": "ac2bb1b1-c26e-4932-8ceb-0f0f798f90a1",
   "metadata": {},
   "outputs": [
    {
     "name": "stdout",
     "output_type": "stream",
     "text": [
      "im inside test2\n",
      "11\n",
      "function executed\n"
     ]
    }
   ],
   "source": [
    "a = test4()"
   ]
  },
  {
   "cell_type": "code",
   "execution_count": 39,
   "id": "3e750605-5596-4a75-8bdc-8270ec1364b4",
   "metadata": {},
   "outputs": [
    {
     "name": "stdout",
     "output_type": "stream",
     "text": [
      "None\n"
     ]
    }
   ],
   "source": [
    "print(a)    #data type function is giving none. when we use print it will give none(if we are using decorarotor) "
   ]
  },
  {
   "cell_type": "code",
   "execution_count": 40,
   "id": "2160e531-b491-44a6-b3aa-db904c403af0",
   "metadata": {},
   "outputs": [],
   "source": [
    "def test5():         #when return is used and decorator is not used data type is int \n",
    "    return 5+6"
   ]
  },
  {
   "cell_type": "code",
   "execution_count": 41,
   "id": "bb3f3787-8dee-41d0-a23b-965e22d0ebb8",
   "metadata": {},
   "outputs": [
    {
     "data": {
      "text/plain": [
       "11"
      ]
     },
     "execution_count": 41,
     "metadata": {},
     "output_type": "execute_result"
    }
   ],
   "source": [
    "test5()"
   ]
  },
  {
   "cell_type": "code",
   "execution_count": 43,
   "id": "21bc3663-1cb1-42b0-a314-5de1f51ac529",
   "metadata": {},
   "outputs": [
    {
     "data": {
      "text/plain": [
       "int"
      ]
     },
     "execution_count": 43,
     "metadata": {},
     "output_type": "execute_result"
    }
   ],
   "source": [
    "type(test5())    "
   ]
  },
  {
   "cell_type": "code",
   "execution_count": 48,
   "id": "571f8bba-2750-457a-998b-344d4322d56e",
   "metadata": {},
   "outputs": [],
   "source": [
    "def test6():         #when print and decorator is used data type is none\n",
    "    print (5+6)"
   ]
  },
  {
   "cell_type": "code",
   "execution_count": 50,
   "id": "dfa91561-ad1f-4fdb-973a-100d866b1d5d",
   "metadata": {},
   "outputs": [
    {
     "name": "stdout",
     "output_type": "stream",
     "text": [
      "11\n"
     ]
    },
    {
     "data": {
      "text/plain": [
       "NoneType"
      ]
     },
     "execution_count": 50,
     "metadata": {},
     "output_type": "execute_result"
    }
   ],
   "source": [
    "type(test6())"
   ]
  },
  {
   "cell_type": "code",
   "execution_count": 44,
   "id": "89ad9302-5765-4078-bbf1-7ae1a3252361",
   "metadata": {},
   "outputs": [],
   "source": [
    "def test1(func):          #a line return func() is added then data type is int.\n",
    "    def test2():\n",
    "        print(\"im inside test2\")\n",
    "        func()\n",
    "        print(func())\n",
    "        print(\"function executed\")\n",
    "        return func()\n",
    "    return test2"
   ]
  },
  {
   "cell_type": "code",
   "execution_count": 61,
   "id": "e5c3a149-4c5c-475f-9d0f-11e4818d1903",
   "metadata": {},
   "outputs": [],
   "source": [
    "@test1                         # if return is added then only int, if print is added then it will be none type\n",
    "def test4():\n",
    "     return(5+6)"
   ]
  },
  {
   "cell_type": "code",
   "execution_count": 60,
   "id": "91ac3fa5-d8df-40bf-9316-5c64c555604b",
   "metadata": {},
   "outputs": [
    {
     "name": "stdout",
     "output_type": "stream",
     "text": [
      "im inside test2\n",
      "11\n",
      "function executed\n"
     ]
    },
    {
     "data": {
      "text/plain": [
       "int"
      ]
     },
     "execution_count": 60,
     "metadata": {},
     "output_type": "execute_result"
    }
   ],
   "source": [
    "type(test4())"
   ]
  },
  {
   "cell_type": "code",
   "execution_count": 63,
   "id": "4c90415e-635b-4c09-8831-39c783a283dd",
   "metadata": {},
   "outputs": [
    {
     "name": "stdout",
     "output_type": "stream",
     "text": [
      "im inside test2\n",
      "11\n",
      "function executed\n"
     ]
    },
    {
     "data": {
      "text/plain": [
       "66"
      ]
     },
     "execution_count": 63,
     "metadata": {},
     "output_type": "execute_result"
    }
   ],
   "source": [
    "test4() + 55     #operator we can do"
   ]
  },
  {
   "cell_type": "code",
   "execution_count": 68,
   "id": "aa58dddf-a179-43cc-b5a3-b7524cbc4202",
   "metadata": {},
   "outputs": [],
   "source": [
    "def test6(func):\n",
    "    def test7():\n",
    "        func()\n",
    "        print (func())\n",
    "        print(\"this is my decorator function\")\n",
    "        return func()\n",
    "    return test7"
   ]
  },
  {
   "cell_type": "code",
   "execution_count": 71,
   "id": "e751027a-8ecc-4338-8afc-0d26f9a96e52",
   "metadata": {},
   "outputs": [],
   "source": [
    "@test6\n",
    "def test8(a,b):\n",
    "    return a+b"
   ]
  },
  {
   "cell_type": "code",
   "execution_count": 72,
   "id": "0780753c-b71f-4c84-8dd0-6e181d8e8084",
   "metadata": {},
   "outputs": [
    {
     "ename": "TypeError",
     "evalue": "test6.<locals>.test7() takes 0 positional arguments but 2 were given",
     "output_type": "error",
     "traceback": [
      "\u001b[0;31m---------------------------------------------------------------------------\u001b[0m",
      "\u001b[0;31mTypeError\u001b[0m                                 Traceback (most recent call last)",
      "Cell \u001b[0;32mIn [72], line 1\u001b[0m\n\u001b[0;32m----> 1\u001b[0m \u001b[43mtest8\u001b[49m\u001b[43m(\u001b[49m\u001b[38;5;124;43m\"\u001b[39;49m\u001b[38;5;124;43mdeva\u001b[39;49m\u001b[38;5;124;43m\"\u001b[39;49m\u001b[43m,\u001b[49m\u001b[38;5;124;43m\"\u001b[39;49m\u001b[38;5;124;43mdarshan\u001b[39;49m\u001b[38;5;124;43m\"\u001b[39;49m\u001b[43m)\u001b[49m\n",
      "\u001b[0;31mTypeError\u001b[0m: test6.<locals>.test7() takes 0 positional arguments but 2 were given"
     ]
    }
   ],
   "source": [
    "test8(\"deva\",\"darshan\")"
   ]
  },
  {
   "cell_type": "code",
   "execution_count": 78,
   "id": "f56562c7-3a5b-4587-a143-9bbd2609fdc3",
   "metadata": {},
   "outputs": [],
   "source": [
    " def test6(func):      # when a, b is added then decoratr function is applied\n",
    "    def test7(a,b):\n",
    "        func(a,b)\n",
    "        print(func(a,b))\n",
    "        print(\"this is my decorator function\")\n",
    "        return func(a,b)\n",
    "    return test7"
   ]
  },
  {
   "cell_type": "code",
   "execution_count": 79,
   "id": "5610577e-46d6-4737-81d2-1d3171e0318b",
   "metadata": {},
   "outputs": [],
   "source": [
    "@test6\n",
    "def test8(a,b):\n",
    "    return a+b"
   ]
  },
  {
   "cell_type": "code",
   "execution_count": 80,
   "id": "fa9f7c6b-d198-4230-9a43-029b2602c4e8",
   "metadata": {},
   "outputs": [
    {
     "name": "stdout",
     "output_type": "stream",
     "text": [
      "devadarshan\n",
      "this is my decorator function\n"
     ]
    },
    {
     "data": {
      "text/plain": [
       "'devadarshan'"
      ]
     },
     "execution_count": 80,
     "metadata": {},
     "output_type": "execute_result"
    }
   ],
   "source": [
    "test8(\"deva\",\"darshan\")"
   ]
  },
  {
   "cell_type": "code",
   "execution_count": 81,
   "id": "af2b4ace-113f-4278-a728-58d89ea9459b",
   "metadata": {},
   "outputs": [],
   "source": [
    "# wrapper function & decorator function is same"
   ]
  },
  {
   "cell_type": "code",
   "execution_count": 88,
   "id": "9d8590a1-13a2-45a6-ad79-4b592189b7a0",
   "metadata": {},
   "outputs": [],
   "source": [
    " def test6(func):      # when *args is used many number of values can be applied\n",
    "    def test7(*args):\n",
    "        func(*args)\n",
    "        print(func(*args))\n",
    "        print(\"this is my decorator function\")\n",
    "        return func(*args)\n",
    "    return test7"
   ]
  },
  {
   "cell_type": "code",
   "execution_count": 89,
   "id": "40a5e2b2-cf46-4d74-9464-88f23b131f96",
   "metadata": {},
   "outputs": [],
   "source": [
    "@test6\n",
    "def test8(a,b,c):\n",
    "    return a+b+c"
   ]
  },
  {
   "cell_type": "code",
   "execution_count": 90,
   "id": "cc9517a6-a92e-4c22-887c-1c26a4f57a0b",
   "metadata": {},
   "outputs": [
    {
     "name": "stdout",
     "output_type": "stream",
     "text": [
      "devadarshanbhadra\n",
      "this is my decorator function\n"
     ]
    },
    {
     "data": {
      "text/plain": [
       "'devadarshanbhadra'"
      ]
     },
     "execution_count": 90,
     "metadata": {},
     "output_type": "execute_result"
    }
   ],
   "source": [
    "test8(\"deva\",\"darshan\",\"bhadra\")"
   ]
  },
  {
   "cell_type": "code",
   "execution_count": null,
   "id": "ce59bfed-5027-4f4a-ac65-9ba0283429e1",
   "metadata": {},
   "outputs": [],
   "source": [
    " def test6(func):      # when *args and **kwargs(key value pair) is used many number of values can be applied\n",
    "    def test7(*args,**kwargs):\n",
    "        func(*args,**kwargs)\n",
    "        print(func(*args,**kwargs))\n",
    "        print(\"this is my decorator function\")\n",
    "        return func(*args,**kwargs)\n",
    "    return test7"
   ]
  },
  {
   "cell_type": "code",
   "execution_count": 92,
   "id": "36f123e9-837d-4f2f-a2c0-1b493c1f8bbd",
   "metadata": {},
   "outputs": [],
   "source": [
    "@test6\n",
    "def test9(**kwargs):\n",
    "    return kwargs"
   ]
  },
  {
   "cell_type": "code",
   "execution_count": 93,
   "id": "8f4a1745-3f62-4946-a076-292fcb0bc6dd",
   "metadata": {},
   "outputs": [
    {
     "name": "stdout",
     "output_type": "stream",
     "text": [
      "{'a': 1996, 'b': 1994}\n",
      "this is my decorator function\n"
     ]
    },
    {
     "data": {
      "text/plain": [
       "{'a': 1996, 'b': 1994}"
      ]
     },
     "execution_count": 93,
     "metadata": {},
     "output_type": "execute_result"
    }
   ],
   "source": [
    "test9(a = 1996, b = 1994)"
   ]
  },
  {
   "cell_type": "code",
   "execution_count": 94,
   "id": "e55f91d0-0d01-4a32-90ab-746f37c9bd87",
   "metadata": {},
   "outputs": [],
   "source": [
    "## explaining about lambda function"
   ]
  },
  {
   "cell_type": "code",
   "execution_count": 98,
   "id": "c2716417-3487-4431-916d-8186ca140ea7",
   "metadata": {},
   "outputs": [],
   "source": [
    "def test10(a,b):\n",
    "    return a+b"
   ]
  },
  {
   "cell_type": "code",
   "execution_count": 100,
   "id": "1429fa9a-a458-451b-9968-24429ac934b2",
   "metadata": {},
   "outputs": [
    {
     "data": {
      "text/plain": [
       "5"
      ]
     },
     "execution_count": 100,
     "metadata": {},
     "output_type": "execute_result"
    }
   ],
   "source": [
    "test10(2,3)"
   ]
  },
  {
   "cell_type": "code",
   "execution_count": 5,
   "id": "c0fb7b6c-9ffd-4e1d-91af-4709a0cb17ff",
   "metadata": {},
   "outputs": [
    {
     "data": {
      "text/plain": [
       "<function __main__.<lambda>(a, b)>"
      ]
     },
     "execution_count": 5,
     "metadata": {},
     "output_type": "execute_result"
    }
   ],
   "source": [
    "lambda a,b : a+b       #applied lambda, lambda is reserved keyword in python"
   ]
  },
  {
   "cell_type": "code",
   "execution_count": 101,
   "id": "c2786e19-ecc9-47bd-b4d8-9906300e5ccd",
   "metadata": {},
   "outputs": [
    {
     "data": {
      "text/plain": [
       "<function __main__.test10(a, b)>"
      ]
     },
     "execution_count": 101,
     "metadata": {},
     "output_type": "execute_result"
    }
   ],
   "source": [
    "test10         # applied test function"
   ]
  },
  {
   "cell_type": "code",
   "execution_count": 111,
   "id": "0dbada86-cabb-417d-897e-4a0e3aed530b",
   "metadata": {},
   "outputs": [],
   "source": [
    "c = test10(2,3)      #this is not possible in functions, can be possible in lambda"
   ]
  },
  {
   "cell_type": "code",
   "execution_count": 108,
   "id": "c87b50bb-87b0-4558-b116-c6ce17a36deb",
   "metadata": {},
   "outputs": [
    {
     "ename": "TypeError",
     "evalue": "'int' object is not callable",
     "output_type": "error",
     "traceback": [
      "\u001b[0;31m---------------------------------------------------------------------------\u001b[0m",
      "\u001b[0;31mTypeError\u001b[0m                                 Traceback (most recent call last)",
      "Cell \u001b[0;32mIn [108], line 1\u001b[0m\n\u001b[0;32m----> 1\u001b[0m \u001b[43mc\u001b[49m\u001b[43m(\u001b[49m\u001b[38;5;241;43m2\u001b[39;49m\u001b[43m,\u001b[49m\u001b[38;5;241;43m3\u001b[39;49m\u001b[43m)\u001b[49m\n",
      "\u001b[0;31mTypeError\u001b[0m: 'int' object is not callable"
     ]
    }
   ],
   "source": [
    "c(2,3)"
   ]
  },
  {
   "cell_type": "code",
   "execution_count": 109,
   "id": "05f0b0cd-5b46-489a-b7fa-c4b7e2b1b8a1",
   "metadata": {},
   "outputs": [],
   "source": [
    "c = lambda a,b : a+b     #lambda takes easy shortcuts"
   ]
  },
  {
   "cell_type": "code",
   "execution_count": 110,
   "id": "e793f738-a3a1-4e58-9d82-afc34280cad7",
   "metadata": {},
   "outputs": [
    {
     "data": {
      "text/plain": [
       "5"
      ]
     },
     "execution_count": 110,
     "metadata": {},
     "output_type": "execute_result"
    }
   ],
   "source": [
    "c(2,3)"
   ]
  },
  {
   "cell_type": "code",
   "execution_count": 112,
   "id": "1ce3f5f8-82e3-41ab-940d-54e247f28b62",
   "metadata": {},
   "outputs": [],
   "source": [
    "d = lambda a,b,c,d : a*b+c/d"
   ]
  },
  {
   "cell_type": "code",
   "execution_count": 113,
   "id": "18ccf405-39f5-4adb-b1f4-36eb88240f7c",
   "metadata": {},
   "outputs": [
    {
     "data": {
      "text/plain": [
       "12.833333333333334"
      ]
     },
     "execution_count": 113,
     "metadata": {},
     "output_type": "execute_result"
    }
   ],
   "source": [
    "d(3,4,5,6)"
   ]
  },
  {
   "cell_type": "code",
   "execution_count": 114,
   "id": "380e837b-8b53-4066-b41a-e14ce4aae9c7",
   "metadata": {},
   "outputs": [],
   "source": [
    "e = lambda *args : args"
   ]
  },
  {
   "cell_type": "code",
   "execution_count": 115,
   "id": "f111125e-32db-4040-aa71-e9d7c8229a95",
   "metadata": {},
   "outputs": [
    {
     "data": {
      "text/plain": [
       "(1, 2, 3, 4)"
      ]
     },
     "execution_count": 115,
     "metadata": {},
     "output_type": "execute_result"
    }
   ],
   "source": [
    "e(1,2,3,4)"
   ]
  },
  {
   "cell_type": "code",
   "execution_count": 116,
   "id": "0437a86d-c115-4813-86c4-895615b13ad2",
   "metadata": {},
   "outputs": [],
   "source": [
    "# map functions and filter functions in lambda"
   ]
  },
  {
   "cell_type": "code",
   "execution_count": 4,
   "id": "6d5a9718-fda5-424c-b20a-a5cc9d4be8a4",
   "metadata": {},
   "outputs": [],
   "source": [
    "l = [1,2,3,4,5,6,7]    # using loop function a number is added\n",
    "l1 = []\n",
    "for i in l:\n",
    "    l1.append(i+10)"
   ]
  },
  {
   "cell_type": "code",
   "execution_count": 3,
   "id": "0b8e8940-bf95-43dc-a09c-3b66e9e3ec4b",
   "metadata": {},
   "outputs": [
    {
     "data": {
      "text/plain": [
       "[11, 12, 13, 14, 15, 16, 17]"
      ]
     },
     "execution_count": 3,
     "metadata": {},
     "output_type": "execute_result"
    }
   ],
   "source": [
    "l1"
   ]
  },
  {
   "cell_type": "code",
   "execution_count": null,
   "id": "5cb18819-c9f3-4807-82ca-b9c53c2a7e01",
   "metadata": {},
   "outputs": [],
   "source": [
    "map()    # map takes input inform of function and iterables(gives in form of set,list,tuples)"
   ]
  },
  {
   "cell_type": "code",
   "execution_count": 6,
   "id": "387d42ce-86f7-428c-be93-4f541e0a6557",
   "metadata": {},
   "outputs": [],
   "source": [
    "def test20(a):\n",
    "    return a+10\n"
   ]
  },
  {
   "cell_type": "code",
   "execution_count": 9,
   "id": "b3b995de-eb9e-4c37-828f-1729e9763dbe",
   "metadata": {},
   "outputs": [
    {
     "data": {
      "text/plain": [
       "[11, 12, 13, 14, 15, 16, 17]"
      ]
     },
     "execution_count": 9,
     "metadata": {},
     "output_type": "execute_result"
    }
   ],
   "source": [
    "list(map(test20,l))      # here in map 1st input is function and 2nd is l value"
   ]
  },
  {
   "cell_type": "code",
   "execution_count": 12,
   "id": "25b73a90-4424-4753-96a5-f3bfadf0bf0e",
   "metadata": {},
   "outputs": [
    {
     "data": {
      "text/plain": [
       "[11, 12, 13, 14, 15, 16, 17]"
      ]
     },
     "execution_count": 12,
     "metadata": {},
     "output_type": "execute_result"
    }
   ],
   "source": [
    "list(map(lambda b : b+10, l))   #using lambda in map function"
   ]
  },
  {
   "cell_type": "code",
   "execution_count": 13,
   "id": "ffe4b798-3dab-4a59-b3f6-40d72c455b86",
   "metadata": {},
   "outputs": [],
   "source": [
    "n = lambda a: a+10       # by giving variable name to lambda function is also possible"
   ]
  },
  {
   "cell_type": "code",
   "execution_count": 14,
   "id": "2f34a852-341f-4350-8b7a-9fb8947bfa1f",
   "metadata": {},
   "outputs": [
    {
     "data": {
      "text/plain": [
       "[11, 12, 13, 14, 15, 16, 17]"
      ]
     },
     "execution_count": 14,
     "metadata": {},
     "output_type": "execute_result"
    }
   ],
   "source": [
    "list(map(n,l))"
   ]
  },
  {
   "cell_type": "code",
   "execution_count": 15,
   "id": "a5fa6a45-a141-4e2d-9e38-51c6cdbb94ea",
   "metadata": {},
   "outputs": [],
   "source": [
    "l = [\"deva\",\"darshan\",\"bhadra\"]"
   ]
  },
  {
   "cell_type": "code",
   "execution_count": 21,
   "id": "7a9d8f1f-49c3-4bbe-8573-f0c3bb1c5a3a",
   "metadata": {},
   "outputs": [],
   "source": [
    "l1 =[]         #to print all in upper cases (approach 1)\n",
    "for i in l:\n",
    "    l1.append(i.upper())\n",
    "    "
   ]
  },
  {
   "cell_type": "code",
   "execution_count": 20,
   "id": "99bbff16-b2be-41c4-af2f-500c67624551",
   "metadata": {},
   "outputs": [
    {
     "data": {
      "text/plain": [
       "['DEVA', 'DARSHAN', 'BHADRA']"
      ]
     },
     "execution_count": 20,
     "metadata": {},
     "output_type": "execute_result"
    }
   ],
   "source": [
    "l1"
   ]
  },
  {
   "cell_type": "code",
   "execution_count": 25,
   "id": "041fe9e3-a447-4789-a085-2ba2d019d4ba",
   "metadata": {},
   "outputs": [
    {
     "data": {
      "text/plain": [
       "['DEVA', 'DARSHAN', 'BHADRA']"
      ]
     },
     "execution_count": 25,
     "metadata": {},
     "output_type": "execute_result"
    }
   ],
   "source": [
    "list(map(lambda a : a.upper(), l))     #approach 2"
   ]
  },
  {
   "cell_type": "code",
   "execution_count": 27,
   "id": "d95b24af-7275-4498-ab1b-40b35c506a68",
   "metadata": {},
   "outputs": [
    {
     "data": {
      "text/plain": [
       "['DEVA', 'DARSHAN', 'BHADRA']"
      ]
     },
     "execution_count": 27,
     "metadata": {},
     "output_type": "execute_result"
    }
   ],
   "source": [
    "list(map(str.upper, l))               #inbuilt function (approach 3)"
   ]
  },
  {
   "cell_type": "code",
   "execution_count": 41,
   "id": "d8863a5b-57df-4a12-93e4-59e2c795bba4",
   "metadata": {},
   "outputs": [],
   "source": [
    "def test21(a):                      # approach 4\n",
    "    return a.lower()"
   ]
  },
  {
   "cell_type": "code",
   "execution_count": 40,
   "id": "f79a87af-4c36-4fa6-a2be-561c48525d45",
   "metadata": {},
   "outputs": [
    {
     "data": {
      "text/plain": [
       "['deva', 'darshan', 'bhadra']"
      ]
     },
     "execution_count": 40,
     "metadata": {},
     "output_type": "execute_result"
    }
   ],
   "source": [
    "list(map(test21, l))"
   ]
  },
  {
   "cell_type": "code",
   "execution_count": 42,
   "id": "563d0795-dc80-4091-89d5-cc1d15db72b7",
   "metadata": {},
   "outputs": [],
   "source": [
    "# map performs as per given functions"
   ]
  },
  {
   "cell_type": "code",
   "execution_count": 43,
   "id": "5c383917-7238-403e-aa19-51ae62298c4f",
   "metadata": {},
   "outputs": [
    {
     "data": {
      "text/plain": [
       "['deva', 'darshan', 'bhadra']"
      ]
     },
     "execution_count": 43,
     "metadata": {},
     "output_type": "execute_result"
    }
   ],
   "source": [
    "l"
   ]
  },
  {
   "cell_type": "code",
   "execution_count": 45,
   "id": "116077f4-0c1e-4989-a367-9ec2c20a7a09",
   "metadata": {},
   "outputs": [
    {
     "data": {
      "text/plain": [
       "[4, 7, 6]"
      ]
     },
     "execution_count": 45,
     "metadata": {},
     "output_type": "execute_result"
    }
   ],
   "source": [
    "list(map(len,l))            #length using map"
   ]
  },
  {
   "cell_type": "code",
   "execution_count": 47,
   "id": "a3119e93-c556-44e8-958d-a775fe61f8c8",
   "metadata": {},
   "outputs": [
    {
     "data": {
      "text/plain": [
       "[4, 7, 6]"
      ]
     },
     "execution_count": 47,
     "metadata": {},
     "output_type": "execute_result"
    }
   ],
   "source": [
    "list(map(lambda a : len(a) , l))"
   ]
  },
  {
   "cell_type": "code",
   "execution_count": 57,
   "id": "ef1cbcb8-9288-4f14-a180-29850c493f53",
   "metadata": {},
   "outputs": [],
   "source": [
    "def test22(a):\n",
    "    return len(a)"
   ]
  },
  {
   "cell_type": "code",
   "execution_count": 58,
   "id": "749e08a1-8d60-4a73-a6a9-5f67774f8170",
   "metadata": {},
   "outputs": [
    {
     "data": {
      "text/plain": [
       "[4, 7, 6]"
      ]
     },
     "execution_count": 58,
     "metadata": {},
     "output_type": "execute_result"
    }
   ],
   "source": [
    "list(map(test22 , l))"
   ]
  },
  {
   "cell_type": "code",
   "execution_count": 8,
   "id": "7c358a89-296c-4d92-99aa-003ee74811bb",
   "metadata": {},
   "outputs": [],
   "source": [
    "l = [1,2,3,4,5,6,7,8]    #approach 1using if condition using filter"
   ]
  },
  {
   "cell_type": "code",
   "execution_count": 9,
   "id": "68fe2e9f-1984-46b9-b194-7cb16b954cfa",
   "metadata": {},
   "outputs": [],
   "source": [
    "l1 = []\n",
    "for i in l:\n",
    "    if i % 2 == 0:\n",
    "        l1.append(i)"
   ]
  },
  {
   "cell_type": "code",
   "execution_count": 10,
   "id": "38357651-493c-4a22-b104-47e41a2f387b",
   "metadata": {},
   "outputs": [
    {
     "data": {
      "text/plain": [
       "[2, 4, 6, 8]"
      ]
     },
     "execution_count": 10,
     "metadata": {},
     "output_type": "execute_result"
    }
   ],
   "source": [
    "l1"
   ]
  },
  {
   "cell_type": "code",
   "execution_count": 12,
   "id": "14d30317-4f42-437d-ae87-defac7ea5cd1",
   "metadata": {},
   "outputs": [
    {
     "data": {
      "text/plain": [
       "[2, 4, 6, 8]"
      ]
     },
     "execution_count": 12,
     "metadata": {},
     "output_type": "execute_result"
    }
   ],
   "source": [
    "[i for i in l if i%2 == 0]      #approach 2 single line function"
   ]
  },
  {
   "cell_type": "code",
   "execution_count": 57,
   "id": "93bdc020-6db1-4ece-83ca-4168829da294",
   "metadata": {},
   "outputs": [],
   "source": [
    "l = [1,2,3,4,5,6,7,8]          # approach 3 using functions"
   ]
  },
  {
   "cell_type": "code",
   "execution_count": 58,
   "id": "9c2413f5-65b8-4045-a736-b7f0f73e430c",
   "metadata": {},
   "outputs": [],
   "source": [
    "def test24(a):\n",
    "    l = []\n",
    "    if type(a) == list :\n",
    "        for i in a :\n",
    "            if i%2 == 0 :\n",
    "                l.append(i)\n",
    "    return l"
   ]
  },
  {
   "cell_type": "code",
   "execution_count": 65,
   "id": "a2375d3f-9bd2-4206-a31f-ad0534e2c4ce",
   "metadata": {},
   "outputs": [
    {
     "data": {
      "text/plain": [
       "[2, 4, 6, 8]"
      ]
     },
     "execution_count": 65,
     "metadata": {},
     "output_type": "execute_result"
    }
   ],
   "source": [
    "test23(l)"
   ]
  },
  {
   "cell_type": "code",
   "execution_count": 67,
   "id": "e9094ada-4129-4f6b-95d7-fde00a707c7e",
   "metadata": {},
   "outputs": [
    {
     "data": {
      "text/plain": [
       "[[], [], [], [], [], [], [], []]"
      ]
     },
     "execution_count": 67,
     "metadata": {},
     "output_type": "execute_result"
    }
   ],
   "source": [
    "list(map(test23, l))"
   ]
  },
  {
   "cell_type": "code",
   "execution_count": 77,
   "id": "77f58fd2-0276-475c-aeb3-353ab451ebec",
   "metadata": {},
   "outputs": [],
   "source": [
    "a = lambda a : a if a% 2== 0 else None"
   ]
  },
  {
   "cell_type": "code",
   "execution_count": 78,
   "id": "25e79ab3-b1c3-494c-8d18-ab29bc2df177",
   "metadata": {},
   "outputs": [
    {
     "data": {
      "text/plain": [
       "[None, 2, None, 4, None, 6, None, 8]"
      ]
     },
     "execution_count": 78,
     "metadata": {},
     "output_type": "execute_result"
    }
   ],
   "source": [
    "list(map(a , l))       #map function will not work"
   ]
  },
  {
   "cell_type": "code",
   "execution_count": 80,
   "id": "80884ae5-8e5e-4b60-b91a-de102c2cb598",
   "metadata": {},
   "outputs": [],
   "source": [
    "# filter function"
   ]
  },
  {
   "cell_type": "code",
   "execution_count": 88,
   "id": "db63fcda-e5b3-4340-9c7d-2d34c1ab6ca8",
   "metadata": {},
   "outputs": [
    {
     "data": {
      "text/plain": [
       "[2, 4, 6, 8]"
      ]
     },
     "execution_count": 88,
     "metadata": {},
     "output_type": "execute_result"
    }
   ],
   "source": [
    "list(filter(a,l))         # approach 1-filter works based on boolean- True False condition"
   ]
  },
  {
   "cell_type": "code",
   "execution_count": 92,
   "id": "ef2dfd44-b1b3-4e77-aed2-522268bbc478",
   "metadata": {},
   "outputs": [],
   "source": [
    "def test24(a):            # appraoch 2\n",
    "    if a%2 == 1:\n",
    "        return True\n",
    "    else:\n",
    "        return False"
   ]
  },
  {
   "cell_type": "code",
   "execution_count": 94,
   "id": "b1afb4e3-8f26-4909-b056-96f2877e94be",
   "metadata": {},
   "outputs": [
    {
     "data": {
      "text/plain": [
       "False"
      ]
     },
     "execution_count": 94,
     "metadata": {},
     "output_type": "execute_result"
    }
   ],
   "source": [
    "test24(24)"
   ]
  },
  {
   "cell_type": "code",
   "execution_count": 95,
   "id": "144c001c-611c-4c68-a539-578f70c66e6f",
   "metadata": {},
   "outputs": [
    {
     "data": {
      "text/plain": [
       "True"
      ]
     },
     "execution_count": 95,
     "metadata": {},
     "output_type": "execute_result"
    }
   ],
   "source": [
    "test24(25)"
   ]
  },
  {
   "cell_type": "code",
   "execution_count": 93,
   "id": "662eb757-9a36-4ddb-884d-a13dbaa5b5e5",
   "metadata": {},
   "outputs": [
    {
     "data": {
      "text/plain": [
       "[1, 3, 5, 7]"
      ]
     },
     "execution_count": 93,
     "metadata": {},
     "output_type": "execute_result"
    }
   ],
   "source": [
    "list(filter(test24, l))  # using filter nad printing odd numbers"
   ]
  },
  {
   "cell_type": "code",
   "execution_count": 101,
   "id": "d54fad8a-87d4-4d18-a4db-54198833d337",
   "metadata": {},
   "outputs": [],
   "source": [
    "l = [1,2,3,4,5,6,7,8,]"
   ]
  },
  {
   "cell_type": "code",
   "execution_count": 102,
   "id": "f59b0ed0-014f-43aa-bb2c-674930780786",
   "metadata": {},
   "outputs": [
    {
     "data": {
      "text/plain": [
       "36"
      ]
     },
     "execution_count": 102,
     "metadata": {},
     "output_type": "execute_result"
    }
   ],
   "source": [
    "sum(l)"
   ]
  },
  {
   "cell_type": "code",
   "execution_count": 152,
   "id": "51ffbe9e-4c34-4b65-bc43-2f217c26c805",
   "metadata": {},
   "outputs": [],
   "source": [
    "l = [1,2,3,4,5,6,7,8]        # similar to reduce function\n",
    "def test25(a):\n",
    "    prod = 1\n",
    "    for i in a:\n",
    "        prod = prod*i\n",
    "    return prod\n",
    "\n",
    "    "
   ]
  },
  {
   "cell_type": "code",
   "execution_count": 147,
   "id": "c2a3b8a4-f742-4a0d-8979-de0c0b90df86",
   "metadata": {},
   "outputs": [
    {
     "data": {
      "text/plain": [
       "40320"
      ]
     },
     "execution_count": 147,
     "metadata": {},
     "output_type": "execute_result"
    }
   ],
   "source": [
    "test25(l)"
   ]
  },
  {
   "cell_type": "code",
   "execution_count": 103,
   "id": "ec6f4055-b831-4457-9763-2fd137cb9211",
   "metadata": {},
   "outputs": [],
   "source": [
    "# Reduce fucntion"
   ]
  },
  {
   "cell_type": "code",
   "execution_count": 148,
   "id": "d9dfee8b-b7fc-4250-a84d-86a620a322a2",
   "metadata": {},
   "outputs": [],
   "source": [
    "from functools import reduce     #2 elements are taken amd recommended"
   ]
  },
  {
   "cell_type": "code",
   "execution_count": 149,
   "id": "9d763d6e-d028-44ac-a715-1fd9c6198b6c",
   "metadata": {},
   "outputs": [
    {
     "data": {
      "text/plain": [
       "40320"
      ]
     },
     "execution_count": 149,
     "metadata": {},
     "output_type": "execute_result"
    }
   ],
   "source": [
    "reduce(lambda a,b : a*b , l)"
   ]
  },
  {
   "cell_type": "code",
   "execution_count": 150,
   "id": "4597f8e0-690b-44dd-8b51-0f0be4675933",
   "metadata": {},
   "outputs": [],
   "source": [
    "l = [1,2,3,4,5,6,7,8,9]\n"
   ]
  },
  {
   "cell_type": "code",
   "execution_count": 151,
   "id": "e1248429-cdab-41a6-bbd8-60c27c64fade",
   "metadata": {},
   "outputs": [
    {
     "data": {
      "text/plain": [
       "362880"
      ]
     },
     "execution_count": 151,
     "metadata": {},
     "output_type": "execute_result"
    }
   ],
   "source": [
    "reduce(lambda a,b : a*b, l)"
   ]
  },
  {
   "cell_type": "code",
   "execution_count": 156,
   "id": "00d9e198-3bd5-4562-9489-737fba9decc1",
   "metadata": {},
   "outputs": [],
   "source": [
    "l1 = [3]              #for single number it is giving as it is"
   ]
  },
  {
   "cell_type": "code",
   "execution_count": 155,
   "id": "99e7ac96-9399-4c32-90b8-7f62718e177f",
   "metadata": {},
   "outputs": [
    {
     "data": {
      "text/plain": [
       "3"
      ]
     },
     "execution_count": 155,
     "metadata": {},
     "output_type": "execute_result"
    }
   ],
   "source": [
    "reduce(lambda a,b : a*b,l1)"
   ]
  },
  {
   "cell_type": "code",
   "execution_count": 168,
   "id": "e5b12480-e26a-44ce-87f6-f7e91ce7e7c9",
   "metadata": {},
   "outputs": [],
   "source": [
    "def test26(a,b)  -> mul:     #showing docstring by giving arrow marks symbol\n",
    "    \n",
    "    \"\"\"\n",
    "    this is docstring\n",
    "    \"\"\"\n",
    "    return a*b "
   ]
  },
  {
   "cell_type": "code",
   "execution_count": 169,
   "id": "346b5f8f-e0e8-4c86-a40b-afa42a5b6184",
   "metadata": {},
   "outputs": [
    {
     "data": {
      "text/plain": [
       "6"
      ]
     },
     "execution_count": 169,
     "metadata": {},
     "output_type": "execute_result"
    }
   ],
   "source": [
    "test26(2,3)"
   ]
  },
  {
   "cell_type": "code",
   "execution_count": 178,
   "id": "c0d3096e-4410-4d79-8c5a-dbee629b67ad",
   "metadata": {},
   "outputs": [],
   "source": [
    "def test27(a: int , b : \"fun\", c:str = 234) ->int:    #standards to hint to next programmer\n",
    "    return a+b+str(c)"
   ]
  },
  {
   "cell_type": "code",
   "execution_count": 177,
   "id": "7f4c0fc2-b7e0-4e70-b464-1d92278a7ca9",
   "metadata": {},
   "outputs": [
    {
     "data": {
      "text/plain": [
       "'devdarshan234'"
      ]
     },
     "execution_count": 177,
     "metadata": {},
     "output_type": "execute_result"
    }
   ],
   "source": [
    "test27(\"dev\",\"darshan\",234)"
   ]
  },
  {
   "cell_type": "code",
   "execution_count": null,
   "id": "309fb8f4-e3f4-4f16-b914-a1372dfd4187",
   "metadata": {},
   "outputs": [],
   "source": []
  }
 ],
 "metadata": {
  "kernelspec": {
   "display_name": "Python 3 (ipykernel)",
   "language": "python",
   "name": "python3"
  },
  "language_info": {
   "codemirror_mode": {
    "name": "ipython",
    "version": 3
   },
   "file_extension": ".py",
   "mimetype": "text/x-python",
   "name": "python",
   "nbconvert_exporter": "python",
   "pygments_lexer": "ipython3",
   "version": "3.10.6"
  }
 },
 "nbformat": 4,
 "nbformat_minor": 5
}
