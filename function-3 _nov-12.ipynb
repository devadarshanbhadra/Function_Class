{
 "cells": [
  {
   "cell_type": "code",
   "execution_count": 1,
   "id": "e10f9e32-588c-4dc8-b253-ce1f411473f5",
   "metadata": {},
   "outputs": [
    {
     "data": {
      "text/plain": [
       "[1, 2, 4, 'bhadra', 6, 8]"
      ]
     },
     "execution_count": 1,
     "metadata": {},
     "output_type": "execute_result"
    }
   ],
   "source": [
    "a = [1,2,4,5,6,8]\n",
    "a[3]= \"bhadra\"\n",
    "a"
   ]
  },
  {
   "cell_type": "code",
   "execution_count": 1,
   "id": "4b1f52ef-bb8d-4850-b329-ed29d14a170c",
   "metadata": {},
   "outputs": [],
   "source": [
    "def test1(*args):\n",
    "    return args"
   ]
  },
  {
   "cell_type": "code",
   "execution_count": 2,
   "id": "4b05630f-5d81-447c-a488-c76c7408eb82",
   "metadata": {},
   "outputs": [
    {
     "data": {
      "text/plain": [
       "('bhadra', 1, 2, 3, 4)"
      ]
     },
     "execution_count": 2,
     "metadata": {},
     "output_type": "execute_result"
    }
   ],
   "source": [
    "test1(\"bhadra\",1,2,3,4)"
   ]
  },
  {
   "cell_type": "code",
   "execution_count": 3,
   "id": "1f72a004-2420-4613-bdb1-548d73725ccf",
   "metadata": {},
   "outputs": [
    {
     "data": {
      "text/plain": [
       "tuple"
      ]
     },
     "execution_count": 3,
     "metadata": {},
     "output_type": "execute_result"
    }
   ],
   "source": [
    "type((test1(\"bhadra\",1,2,3,4)))"
   ]
  },
  {
   "cell_type": "code",
   "execution_count": 16,
   "id": "d02bbc36-167e-444c-b800-19ec4b3f76dc",
   "metadata": {},
   "outputs": [],
   "source": [
    "def test(*bhadra):   #any number of funtion values can be stored. list to tuple or tuple to list\n",
    "    return list(bhadra)"
   ]
  },
  {
   "cell_type": "code",
   "execution_count": 6,
   "id": "6bfd63be-8333-407e-988a-5e2fd66fd669",
   "metadata": {},
   "outputs": [
    {
     "data": {
      "text/plain": [
       "[2, 14]"
      ]
     },
     "execution_count": 6,
     "metadata": {},
     "output_type": "execute_result"
    }
   ],
   "source": [
    "test(2,14)"
   ]
  },
  {
   "cell_type": "code",
   "execution_count": 15,
   "id": "6e6e5e48-a1ce-4b96-88ab-aa6e44a3ca5e",
   "metadata": {},
   "outputs": [],
   "source": [
    "def test(*bhadra):     #*args funtion using in range append and conerting into list\n",
    "    l =[]\n",
    "    for i in bhadra:\n",
    "      l.append(i)\n",
    "    return l\n",
    "        "
   ]
  },
  {
   "cell_type": "code",
   "execution_count": 13,
   "id": "73fab358-0705-4a91-8afb-7d44e4efd6db",
   "metadata": {},
   "outputs": [
    {
     "data": {
      "text/plain": [
       "[2, 5, (2+5j)]"
      ]
     },
     "execution_count": 13,
     "metadata": {},
     "output_type": "execute_result"
    }
   ],
   "source": [
    "test(2,5,2+5j)"
   ]
  },
  {
   "cell_type": "code",
   "execution_count": 17,
   "id": "03ae3035-e161-492b-a696-b829cd85659a",
   "metadata": {},
   "outputs": [
    {
     "data": {
      "text/plain": [
       "dict"
      ]
     },
     "execution_count": 17,
     "metadata": {},
     "output_type": "execute_result"
    }
   ],
   "source": [
    "d ={}\n",
    "type(d)"
   ]
  },
  {
   "cell_type": "code",
   "execution_count": 18,
   "id": "8c6c5728-4355-4318-b4a5-571766d54317",
   "metadata": {},
   "outputs": [
    {
     "data": {
      "text/plain": [
       "set"
      ]
     },
     "execution_count": 18,
     "metadata": {},
     "output_type": "execute_result"
    }
   ],
   "source": [
    "d = {2,2,5}\n",
    "type(d)"
   ]
  },
  {
   "cell_type": "code",
   "execution_count": 20,
   "id": "31a028c9-56ae-4b70-b8ca-3dc3d6165e76",
   "metadata": {},
   "outputs": [
    {
     "data": {
      "text/plain": [
       "{231456, 'bhadra'}"
      ]
     },
     "execution_count": 20,
     "metadata": {},
     "output_type": "execute_result"
    }
   ],
   "source": [
    "t1 = {231456, 'bhadra'}\n",
    "t1"
   ]
  },
  {
   "cell_type": "code",
   "execution_count": 22,
   "id": "695048c5-77b2-4107-a174-8e42d2a34eb4",
   "metadata": {},
   "outputs": [
    {
     "ename": "TypeError",
     "evalue": "unhashable type: 'list'",
     "output_type": "error",
     "traceback": [
      "\u001b[0;31m---------------------------------------------------------------------------\u001b[0m",
      "\u001b[0;31mTypeError\u001b[0m                                 Traceback (most recent call last)",
      "Cell \u001b[0;32mIn [22], line 1\u001b[0m\n\u001b[0;32m----> 1\u001b[0m t2 \u001b[38;5;241m=\u001b[39m {[\u001b[38;5;241m1\u001b[39m,\u001b[38;5;241m3\u001b[39m,\u001b[38;5;241m5\u001b[39m],\u001b[38;5;124m'\u001b[39m\u001b[38;5;124mbhadra\u001b[39m\u001b[38;5;124m'\u001b[39m}      \u001b[38;5;66;03m#list is not allowed in dictionaries\u001b[39;00m\n\u001b[1;32m      2\u001b[0m t2\n",
      "\u001b[0;31mTypeError\u001b[0m: unhashable type: 'list'"
     ]
    }
   ],
   "source": [
    "t2 = {[1,3,5],'bhadra'}      #list is not allowed in dictionaries\n",
    "t2"
   ]
  },
  {
   "cell_type": "code",
   "execution_count": 31,
   "id": "78bdf3f8-587a-42c4-ae68-6d2dddb77bc8",
   "metadata": {},
   "outputs": [],
   "source": [
    "d1 = { \"name\" : \"bhadra\" , \"org\" : \"ineuron\" , \"name1\" : \"deva\"}"
   ]
  },
  {
   "cell_type": "code",
   "execution_count": 32,
   "id": "76f27625-4d67-44a0-8081-2d15750454b9",
   "metadata": {},
   "outputs": [
    {
     "data": {
      "text/plain": [
       "{'name': 'bhadra', 'org': 'ineuron', 'name1': 'deva'}"
      ]
     },
     "execution_count": 32,
     "metadata": {},
     "output_type": "execute_result"
    }
   ],
   "source": [
    "d1"
   ]
  },
  {
   "cell_type": "code",
   "execution_count": 43,
   "id": "3c72acc9-994d-4f48-9739-9e81960bb3e8",
   "metadata": {},
   "outputs": [],
   "source": [
    "d1 = { \"name\" : \"bhadra\" , \"org\" : \"ineuron\" , \"mail id\" : \"devadarshanbhadra@gmail.com\" , \"name1\" : \"deva\" }"
   ]
  },
  {
   "cell_type": "code",
   "execution_count": 44,
   "id": "5d3ddde4-2d18-4e93-ad4b-5c273bc575d1",
   "metadata": {},
   "outputs": [
    {
     "data": {
      "text/plain": [
       "{'name': 'bhadra',\n",
       " 'org': 'ineuron',\n",
       " 'mail id': 'devadarshanbhadra@gmail.com',\n",
       " 'name1': 'deva'}"
      ]
     },
     "execution_count": 44,
     "metadata": {},
     "output_type": "execute_result"
    }
   ],
   "source": [
    "d1"
   ]
  },
  {
   "cell_type": "code",
   "execution_count": 50,
   "id": "9d18d7cd-856c-4680-9644-900d4e87850b",
   "metadata": {},
   "outputs": [
    {
     "data": {
      "text/plain": [
       "'devadarshanbhadra@gmail.com'"
      ]
     },
     "execution_count": 50,
     "metadata": {},
     "output_type": "execute_result"
    }
   ],
   "source": [
    "d1['mail id']"
   ]
  },
  {
   "cell_type": "code",
   "execution_count": 51,
   "id": "2a5499ec-3abe-4e9e-9b49-490a23b52a7f",
   "metadata": {},
   "outputs": [
    {
     "data": {
      "text/plain": [
       "'bhadra'"
      ]
     },
     "execution_count": 51,
     "metadata": {},
     "output_type": "execute_result"
    }
   ],
   "source": [
    "d1['name']"
   ]
  },
  {
   "cell_type": "code",
   "execution_count": 52,
   "id": "10ab6e8e-62f2-412e-9934-1d21ea975486",
   "metadata": {},
   "outputs": [
    {
     "data": {
      "text/plain": [
       "dict_keys(['name', 'org', 'mail id', 'name1'])"
      ]
     },
     "execution_count": 52,
     "metadata": {},
     "output_type": "execute_result"
    }
   ],
   "source": [
    "d1.keys()"
   ]
  },
  {
   "cell_type": "code",
   "execution_count": 57,
   "id": "a33f5462-2233-4a6a-8717-89203e44ad8e",
   "metadata": {},
   "outputs": [
    {
     "data": {
      "text/plain": [
       "dict_values(['bhadra', 'ineuron', 'devadarshanbhadra@gmail.com', 'deva'])"
      ]
     },
     "execution_count": 57,
     "metadata": {},
     "output_type": "execute_result"
    }
   ],
   "source": [
    "d1.values()"
   ]
  },
  {
   "cell_type": "code",
   "execution_count": 3,
   "id": "30590481-1405-4ae7-80e4-9a39163179b2",
   "metadata": {},
   "outputs": [],
   "source": [
    "d8 ={'name' : 'sudh',\n",
    "    'mentor' : {'fsds' : 'imran', 'fsda' : 'anand' , 'big data' :'shashank'}}"
   ]
  },
  {
   "cell_type": "code",
   "execution_count": 6,
   "id": "265a0e6e-1f17-49d1-8604-28f04a13c181",
   "metadata": {},
   "outputs": [],
   "source": [
    "l = list(d8['mentor'].values())"
   ]
  },
  {
   "cell_type": "code",
   "execution_count": 7,
   "id": "717eb264-3c34-40be-91ff-79c7f4c245dd",
   "metadata": {},
   "outputs": [
    {
     "data": {
      "text/plain": [
       "['imran', 'anand', 'shashank']"
      ]
     },
     "execution_count": 7,
     "metadata": {},
     "output_type": "execute_result"
    }
   ],
   "source": [
    "l"
   ]
  },
  {
   "cell_type": "code",
   "execution_count": 20,
   "id": "35ab467a-35e4-4c0c-9ebf-cddf0c8068c3",
   "metadata": {},
   "outputs": [],
   "source": [
    "    l = []\n",
    "    for i in d8.keys():\n",
    "        if type(d8[i]) == dict:\n",
    "            l.append(list(d8[i].values()))"
   ]
  },
  {
   "cell_type": "code",
   "execution_count": 21,
   "id": "3ef60bae-be17-4874-a61b-6ecd6968be9c",
   "metadata": {},
   "outputs": [
    {
     "data": {
      "text/plain": [
       "[['imran', 'anand', 'shashank']]"
      ]
     },
     "execution_count": 21,
     "metadata": {},
     "output_type": "execute_result"
    }
   ],
   "source": [
    "l"
   ]
  },
  {
   "cell_type": "code",
   "execution_count": 27,
   "id": "ca3a2f55-08e1-47f6-b762-07646d270cd1",
   "metadata": {},
   "outputs": [],
   "source": [
    "def test8(d):       #printing set using function\n",
    "    l = []\n",
    "    for i in d8.keys():\n",
    "        if type(d8[i]) == dict:\n",
    "            l.append(list(d8[i].values()))\n",
    "    return l"
   ]
  },
  {
   "cell_type": "code",
   "execution_count": 23,
   "id": "bcb1a2c2-27f0-4b81-be8b-f096d37373c3",
   "metadata": {},
   "outputs": [
    {
     "data": {
      "text/plain": [
       "[['imran', 'anand', 'shashank']]"
      ]
     },
     "execution_count": 23,
     "metadata": {},
     "output_type": "execute_result"
    }
   ],
   "source": [
    "l"
   ]
  },
  {
   "cell_type": "code",
   "execution_count": 26,
   "id": "34f8af9d-77ba-4621-b0b5-420e073c0ba7",
   "metadata": {},
   "outputs": [
    {
     "data": {
      "text/plain": [
       "[['imran', 'anand', 'shashank']]"
      ]
     },
     "execution_count": 26,
     "metadata": {},
     "output_type": "execute_result"
    }
   ],
   "source": [
    "test8(d8)"
   ]
  },
  {
   "cell_type": "code",
   "execution_count": 28,
   "id": "2b0fccc0-e7e8-4d72-a23f-7cfaa33e3a95",
   "metadata": {},
   "outputs": [
    {
     "data": {
      "text/plain": [
       "{'name': 'sudh',\n",
       " 'mentor': {'fsds': 'imran', 'fsda': 'anand', 'big data': 'shashank'}}"
      ]
     },
     "execution_count": 28,
     "metadata": {},
     "output_type": "execute_result"
    }
   ],
   "source": [
    "d8"
   ]
  },
  {
   "cell_type": "code",
   "execution_count": 29,
   "id": "5b753f63-efb9-4e20-9c02-f488871a2d55",
   "metadata": {},
   "outputs": [],
   "source": [
    "d8[\"emp.id\"] = \"29120\"    # adding keys to a existing set dictionary"
   ]
  },
  {
   "cell_type": "code",
   "execution_count": 32,
   "id": "94e0bd0c-cdf2-410b-a23c-b02c413a84d8",
   "metadata": {},
   "outputs": [],
   "source": [
    "d8[\"name\"] = \"bhadra\"   # changing value names to a existing set dictionary"
   ]
  },
  {
   "cell_type": "code",
   "execution_count": 31,
   "id": "47c10354-05cd-4f12-9d75-2cc2c4625482",
   "metadata": {},
   "outputs": [
    {
     "data": {
      "text/plain": [
       "{'name': 'bhadra',\n",
       " 'mentor': {'fsds': 'imran', 'fsda': 'anand', 'big data': 'shashank'},\n",
       " 'emp.id': '29120'}"
      ]
     },
     "execution_count": 31,
     "metadata": {},
     "output_type": "execute_result"
    }
   ],
   "source": [
    "d8"
   ]
  },
  {
   "cell_type": "code",
   "execution_count": 35,
   "id": "faf2f645-85a7-4ed0-b391-f7f753faa75e",
   "metadata": {},
   "outputs": [],
   "source": [
    "def test10(**kwargs):    #key value pair\n",
    "    return kwargs"
   ]
  },
  {
   "cell_type": "code",
   "execution_count": 34,
   "id": "1fc29367-7651-49c2-90da-608b4385ce23",
   "metadata": {},
   "outputs": [
    {
     "data": {
      "text/plain": [
       "{'a': 1, 'b': 2, 'c': 3, 'd': 4}"
      ]
     },
     "execution_count": 34,
     "metadata": {},
     "output_type": "execute_result"
    }
   ],
   "source": [
    "test10(a=1,b=2,c=3,d=4)"
   ]
  },
  {
   "cell_type": "code",
   "execution_count": 41,
   "id": "2b62a7f6-464a-4108-a8c0-5ddda43252e6",
   "metadata": {},
   "outputs": [],
   "source": [
    "def test12(a):    #taking a item of funcion of other\n",
    "    return a\n",
    "\n",
    "def test13(b):\n",
    "    return b\n",
    "\n",
    "def test14(func):\n",
    "    return func(\"badra\")"
   ]
  },
  {
   "cell_type": "code",
   "execution_count": 40,
   "id": "e6a2c81e-f6ce-4546-b0d3-6d6750be5093",
   "metadata": {},
   "outputs": [
    {
     "data": {
      "text/plain": [
       "'badra'"
      ]
     },
     "execution_count": 40,
     "metadata": {},
     "output_type": "execute_result"
    }
   ],
   "source": [
    "test14(test12)"
   ]
  },
  {
   "cell_type": "code",
   "execution_count": 46,
   "id": "2d154019-2237-41bb-ad58-ff54ae457fcd",
   "metadata": {},
   "outputs": [],
   "source": [
    "def test12(a):    #taking a item of funcion of other\n",
    "    return a\n",
    "\n",
    "def test13(b):\n",
    "    return \"sudh\"\n",
    "\n",
    "def test14(func):\n",
    "    return func(\"badra\")"
   ]
  },
  {
   "cell_type": "code",
   "execution_count": 47,
   "id": "fe9f6412-37ee-473e-824d-f398510e444c",
   "metadata": {},
   "outputs": [
    {
     "data": {
      "text/plain": [
       "'sudh'"
      ]
     },
     "execution_count": 47,
     "metadata": {},
     "output_type": "execute_result"
    }
   ],
   "source": [
    "test14(test13)"
   ]
  },
  {
   "cell_type": "code",
   "execution_count": 20,
   "id": "f5d221d9-6a38-406e-8202-1fd1643c50b9",
   "metadata": {},
   "outputs": [],
   "source": [
    "def test15(a):      # function under another function\n",
    "    print(\"this is my test15\")\n",
    "    \n",
    "    def test16():\n",
    "        print(\"this is my test16\")\n",
    "        \n",
    "    def test17():\n",
    "        print(\"this is my test17\")\n",
    "        \n",
    "    if a == \"sudh\":\n",
    "        return test16()\n",
    "    elif a == \"kumar\":\n",
    "        return test17()\n",
    "    "
   ]
  },
  {
   "cell_type": "code",
   "execution_count": 19,
   "id": "7ff95081-00aa-464c-9c41-514bcba79472",
   "metadata": {},
   "outputs": [
    {
     "name": "stdout",
     "output_type": "stream",
     "text": [
      "this is my test15\n",
      "this is my test17\n"
     ]
    }
   ],
   "source": [
    "test15(\"kumar\")"
   ]
  },
  {
   "cell_type": "code",
   "execution_count": 64,
   "id": "526861f9-7319-4f5b-b56c-d58567efa56d",
   "metadata": {},
   "outputs": [],
   "source": [
    "def test13(*args):\n",
    "    print(\"this is a return of test13\")\n",
    "    "
   ]
  },
  {
   "cell_type": "code",
   "execution_count": 65,
   "id": "8e9c9648-3444-4f55-9e67-fe0bb1e98d57",
   "metadata": {},
   "outputs": [],
   "source": [
    "def test18(func) : \n",
    "    def test19():\n",
    "        print(\"i am inside test19\") \n",
    "    return test19()"
   ]
  },
  {
   "cell_type": "code",
   "execution_count": 66,
   "id": "a1e5e766-f5f1-4c3a-8af4-4ce222725dbb",
   "metadata": {},
   "outputs": [
    {
     "name": "stdout",
     "output_type": "stream",
     "text": [
      "i am inside test19\n"
     ]
    }
   ],
   "source": [
    "test18(test13)"
   ]
  },
  {
   "cell_type": "code",
   "execution_count": 6,
   "id": "eef0faa2-be01-4a8c-bfc2-b6320e860738",
   "metadata": {},
   "outputs": [],
   "source": [
    "def test18(func) : \n",
    "    def test19():\n",
    "        print(\"i am inside test19 and this will behave a decorator to any function that i am going to call\")\n",
    "    func()\n",
    "    return test19"
   ]
  },
  {
   "cell_type": "code",
   "execution_count": 7,
   "id": "c193c331-b282-42c7-b809-f38e9fee2d64",
   "metadata": {},
   "outputs": [],
   "source": [
    "@test18\n",
    "def test20():\n",
    "    return (\"this is my test20\")"
   ]
  },
  {
   "cell_type": "code",
   "execution_count": 8,
   "id": "ef958dcd-f75b-410d-8f84-8ae7308c48d0",
   "metadata": {},
   "outputs": [
    {
     "name": "stdout",
     "output_type": "stream",
     "text": [
      "i am inside test19 and this will behave a decorator to any function that i am going to call\n"
     ]
    },
    {
     "data": {
      "text/plain": [
       "<function __main__.test18.<locals>.test19()>"
      ]
     },
     "execution_count": 8,
     "metadata": {},
     "output_type": "execute_result"
    }
   ],
   "source": [
    "test18(test20)"
   ]
  },
  {
   "cell_type": "code",
   "execution_count": 9,
   "id": "ffac7df4-709a-4b9c-bd5c-a60699b2e9b6",
   "metadata": {},
   "outputs": [],
   "source": [
    "import os\n"
   ]
  },
  {
   "cell_type": "code",
   "execution_count": 10,
   "id": "dea07b8c-7979-4c3e-8b5e-f9864fd1fc85",
   "metadata": {},
   "outputs": [],
   "source": [
    "def test20(func):\n",
    "    def test21():\n",
    "        func()\n",
    "        print(os.getcwd())\n",
    "    return test21"
   ]
  },
  {
   "cell_type": "code",
   "execution_count": 13,
   "id": "fb505eee-252f-4b23-9488-7e3ec4af7c27",
   "metadata": {},
   "outputs": [
    {
     "name": "stdout",
     "output_type": "stream",
     "text": [
      "this will print inside test22\n",
      "/home/jovyan/work\n"
     ]
    }
   ],
   "source": [
    "@test18\n",
    "@test20\n",
    "def test22():\n",
    "    print(\"this will print inside test22\")"
   ]
  },
  {
   "cell_type": "code",
   "execution_count": 14,
   "id": "0ebbd94a-9dba-4de3-acd5-fe73fd3a0124",
   "metadata": {},
   "outputs": [
    {
     "name": "stdout",
     "output_type": "stream",
     "text": [
      "hello\n",
      "0.0003311634063720703\n"
     ]
    }
   ],
   "source": [
    "import time\n",
    "start = time.time()\n",
    "print(\"hello\")\n",
    "end = time.time()\n",
    "print(end - start)"
   ]
  },
  {
   "cell_type": "code",
   "execution_count": 16,
   "id": "b0d23b9c-40c8-4477-a27c-adff9384c339",
   "metadata": {},
   "outputs": [],
   "source": [
    "def test25(func):   # creating decorartor time \n",
    "    def test26():\n",
    "        print(\"exexcution time\")\n",
    "        start  = time.time()\n",
    "        print(\"hello\")\n",
    "        end = time .time()\n",
    "        print(end-start)\n",
    "    return test26"
   ]
  },
  {
   "cell_type": "code",
   "execution_count": 22,
   "id": "79485555-d1db-4639-8c46-ea3798cb394d",
   "metadata": {},
   "outputs": [],
   "source": [
    "@test25       # decoarartor of execution time\n",
    "def test27():\n",
    "    \"\"\"\n",
    "    thsi is a function which will give execution of time to call a function\n",
    "    \"\"\"\n",
    "    l = [1,2,3,4,5,6,7,8,9]\n",
    "    l1 = []\n",
    "    for i in l:\n",
    "        if type(i) == int:\n",
    "            l1.append[i]\n",
    "    return l1"
   ]
  },
  {
   "cell_type": "code",
   "execution_count": 21,
   "id": "0b8b2ff1-c24e-414b-8e79-5d1781794647",
   "metadata": {},
   "outputs": [
    {
     "name": "stdout",
     "output_type": "stream",
     "text": [
      "exexcution time\n",
      "hello\n",
      "1.1682510375976562e-05\n"
     ]
    }
   ],
   "source": [
    "test27()"
   ]
  },
  {
   "cell_type": "code",
   "execution_count": null,
   "id": "9df24411-508f-41fd-b14c-711197c1cfb5",
   "metadata": {},
   "outputs": [],
   "source": [
    "test27()"
   ]
  }
 ],
 "metadata": {
  "kernelspec": {
   "display_name": "Python 3 (ipykernel)",
   "language": "python",
   "name": "python3"
  },
  "language_info": {
   "codemirror_mode": {
    "name": "ipython",
    "version": 3
   },
   "file_extension": ".py",
   "mimetype": "text/x-python",
   "name": "python",
   "nbconvert_exporter": "python",
   "pygments_lexer": "ipython3",
   "version": "3.10.6"
  }
 },
 "nbformat": 4,
 "nbformat_minor": 5
}
